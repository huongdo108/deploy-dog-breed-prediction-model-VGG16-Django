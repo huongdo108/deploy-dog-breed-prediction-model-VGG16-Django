{
 "cells": [
  {
   "cell_type": "markdown",
   "metadata": {},
   "source": [
    "**Transfer Learning with vgg16 - Dog Breed Prediction**"
   ]
  },
  {
   "cell_type": "code",
   "execution_count": 1,
   "metadata": {
    "ExecuteTime": {
     "end_time": "2020-07-30T13:07:50.765793Z",
     "start_time": "2020-07-30T13:07:49.874085Z"
    }
   },
   "outputs": [],
   "source": [
    "import numpy as np\n",
    "from glob import glob\n",
    "import os\n",
    "from torchvision.datasets import ImageFolder\n",
    "from torch.utils.data import DataLoader\n",
    "\n",
    "import torchvision.transforms as transforms\n",
    "import os\n",
    "import numpy as np\n",
    "import matplotlib.pyplot as plt\n",
    "%matplotlib inline\n",
    "\n",
    "import torch\n",
    "import torchvision\n",
    "import torchvision.transforms as transforms\n",
    "\n",
    "import torch.nn as nn\n",
    "import torch.nn.functional as F\n",
    "import torch.optim as optim\n",
    "from PIL import ImageFile\n",
    "ImageFile.LOAD_TRUNCATED_IMAGES = True\n",
    "\n",
    "import torchvision.models as models\n",
    "import torch.nn as nn"
   ]
  },
  {
   "cell_type": "code",
   "execution_count": 4,
   "metadata": {
    "ExecuteTime": {
     "end_time": "2020-07-30T13:40:44.972622Z",
     "start_time": "2020-07-30T13:40:44.960622Z"
    }
   },
   "outputs": [],
   "source": [
    "device = torch.device(\"cuda\" if torch.cuda.is_available() else \"cpu\")"
   ]
  },
  {
   "cell_type": "markdown",
   "metadata": {},
   "source": [
    "download data from https://s3-us-west-1.amazonaws.com/udacity-aind/dog-project/dogImages.zip"
   ]
  },
  {
   "cell_type": "markdown",
   "metadata": {},
   "source": [
    "**Prepare data**"
   ]
  },
  {
   "cell_type": "code",
   "execution_count": 5,
   "metadata": {
    "ExecuteTime": {
     "end_time": "2020-07-30T13:40:51.491069Z",
     "start_time": "2020-07-30T13:40:51.485074Z"
    }
   },
   "outputs": [],
   "source": [
    "def Data_Loader(data_path,data_type,batch_size,shuffle=True):\n",
    "    data_transform = transforms.Compose([\n",
    "        transforms.Resize(size=(255)),\n",
    "        transforms.CenterCrop((224,224)),\n",
    "        transforms.ToTensor(),\n",
    "        transforms.Normalize(mean=[0.485,0.456,0.406],std=[0.229,0.224,0.225]),\n",
    "    ])\n",
    "    \n",
    "    image_folder = ImageFolder(os.path.join(data_path,data_type),transform = data_transform)\n",
    "    data_loader = DataLoader(image_folder,batch_size,shuffle)\n",
    "    return data_loader"
   ]
  },
  {
   "cell_type": "code",
   "execution_count": 6,
   "metadata": {
    "ExecuteTime": {
     "end_time": "2020-07-30T13:40:51.894012Z",
     "start_time": "2020-07-30T13:40:51.807010Z"
    }
   },
   "outputs": [],
   "source": [
    "data_path = \"./data/dogImages/\"\n",
    "train_loader = Data_Loader(data_path ,data_type='train',batch_size=1,shuffle=True)\n",
    "valid_loader = Data_Loader(data_path,data_type='valid',batch_size=1,shuffle=False)\n",
    "test_loader = Data_Loader(data_path,data_type='test',batch_size=1,shuffle=False)"
   ]
  },
  {
   "cell_type": "markdown",
   "metadata": {},
   "source": [
    "**Prepare train and evaluation models**"
   ]
  },
  {
   "cell_type": "code",
   "execution_count": 9,
   "metadata": {
    "ExecuteTime": {
     "end_time": "2020-07-30T13:40:53.841616Z",
     "start_time": "2020-07-30T13:40:53.835579Z"
    }
   },
   "outputs": [],
   "source": [
    "def train_model(model,optimizer,criterion,data_loader):\n",
    "    model.train()\n",
    "    epoch_loss = 0\n",
    "    epoch_correct = 0\n",
    "    epoch_total = 0\n",
    "    for batch_idx, (images, labels) in enumerate(data_loader):\n",
    "        images, labels = images.to(device), labels.to(device)\n",
    "        optimizer.zero_grad()\n",
    "        outputs = model(images).to(device)\n",
    "        loss = criterion(outputs,labels).to(device)\n",
    "        epoch_loss += loss.item()\n",
    "        _, predicted = torch.max(outputs.data, 1)\n",
    "        epoch_total += labels.size(0)\n",
    "        epoch_correct += (predicted == labels).sum().item()\n",
    "        loss.backward()\n",
    "        optimizer.step() \n",
    "    return epoch_loss/len(data_loader), epoch_correct/epoch_total    "
   ]
  },
  {
   "cell_type": "code",
   "execution_count": 10,
   "metadata": {
    "ExecuteTime": {
     "end_time": "2020-07-30T13:40:53.988137Z",
     "start_time": "2020-07-30T13:40:53.982137Z"
    }
   },
   "outputs": [],
   "source": [
    "def evaluate_model(model,optimizer,criterion,data_loader):\n",
    "    model.eval()\n",
    "    with torch.no_grad():\n",
    "        epoch_loss = 0\n",
    "        epoch_correct = 0\n",
    "        epoch_total = 0\n",
    "        for batch_idx, (images, labels) in enumerate(data_loader):\n",
    "            images, labels = images.to(device), labels.to(device)\n",
    "            outputs = model(images).to(device)\n",
    "            loss = criterion(outputs,labels).to(device)\n",
    "            epoch_loss += loss.item()\n",
    "            _, predicted = torch.max(outputs.data, 1)\n",
    "            epoch_total += labels.size(0)\n",
    "            epoch_correct += (predicted == labels).sum().item()\n",
    "    return epoch_loss/len(data_loader), epoch_correct/epoch_total"
   ]
  },
  {
   "cell_type": "markdown",
   "metadata": {},
   "source": [
    "**Train last layer of vgg16**"
   ]
  },
  {
   "cell_type": "code",
   "execution_count": 13,
   "metadata": {},
   "outputs": [
    {
     "name": "stdout",
     "output_type": "stream",
     "text": [
      "Epoch: 1 Train Loss: 1.337 Train Acc: 66.47% Val Loss: 0.604 Val Acc: 82.51%\n",
      "Epoch: 2 Train Loss: 0.576 Train Acc: 82.84% Val Loss: 0.536 Val Acc: 82.63%\n",
      "Epoch: 3 Train Loss: 0.476 Train Acc: 85.31% Val Loss: 0.439 Val Acc: 86.95%\n",
      "Epoch: 4 Train Loss: 0.403 Train Acc: 87.37% Val Loss: 0.417 Val Acc: 86.71%\n",
      "Epoch: 5 Train Loss: 0.359 Train Acc: 89.09% Val Loss: 0.433 Val Acc: 86.83%\n",
      "Epoch: 6 Train Loss: 0.327 Train Acc: 89.51% Val Loss: 0.403 Val Acc: 86.83%\n",
      "Epoch: 7 Train Loss: 0.301 Train Acc: 90.51% Val Loss: 0.397 Val Acc: 87.54%\n",
      "Epoch: 8 Train Loss: 0.294 Train Acc: 90.54% Val Loss: 0.404 Val Acc: 86.83%\n",
      "Epoch: 9 Train Loss: 0.282 Train Acc: 91.14% Val Loss: 0.401 Val Acc: 87.43%\n",
      "Epoch: 10 Train Loss: 0.248 Train Acc: 92.13% Val Loss: 0.416 Val Acc: 87.19%\n",
      "Epoch: 11 Train Loss: 0.243 Train Acc: 91.87% Val Loss: 0.390 Val Acc: 88.14%\n",
      "Epoch: 12 Train Loss: 0.236 Train Acc: 92.66% Val Loss: 0.405 Val Acc: 86.95%\n",
      "Epoch: 13 Train Loss: 0.230 Train Acc: 92.96% Val Loss: 0.410 Val Acc: 87.78%\n",
      "Epoch: 14 Train Loss: 0.212 Train Acc: 93.43% Val Loss: 0.389 Val Acc: 87.31%\n",
      "Epoch: 15 Train Loss: 0.210 Train Acc: 92.99% Val Loss: 0.397 Val Acc: 88.26%\n",
      "Epoch: 16 Train Loss: 0.209 Train Acc: 93.35% Val Loss: 0.375 Val Acc: 88.38%\n",
      "Epoch: 17 Train Loss: 0.201 Train Acc: 94.01% Val Loss: 0.382 Val Acc: 88.74%\n",
      "Epoch: 18 Train Loss: 0.201 Train Acc: 93.38% Val Loss: 0.378 Val Acc: 87.78%\n",
      "Epoch: 19 Train Loss: 0.188 Train Acc: 94.21% Val Loss: 0.411 Val Acc: 86.71%\n",
      "Epoch: 20 Train Loss: 0.196 Train Acc: 93.71% Val Loss: 0.407 Val Acc: 87.31%\n"
     ]
    }
   ],
   "source": [
    "# download pretrained vgg16 model from torchvision.models\n",
    "vgg16_pretrained= models.vgg16(pretrained=True)\n",
    "\n",
    "# freeze the model weights\n",
    "for param in vgg16_pretrained.parameters():\n",
    "    param.requires_grad = False\n",
    "\n",
    "# change the output dimension of the pretrained model's last layer to 133, the number of dog breeds in our train data\n",
    "vgg16_pretrained.classifier[6] = nn.Linear(4096, 133)\n",
    "vgg16_pretrained.to(device)\n",
    "\n",
    "criterion_pretrained = nn.CrossEntropyLoss().to(device)\n",
    "optimizer_pretrained = torch.optim.SGD(vgg16_pretrained.classifier[6].parameters(), lr=0.001)\n",
    "n_epochs = 20\n",
    "for epoch in range(n_epochs):\n",
    "    \n",
    "    train_loss, train_acc = train_model(vgg16_pretrained,optimizer_pretrained,criterion_pretrained,data_loader=train_loader)\n",
    "    val_loss, val_acc = evaluate_model(vgg16_pretrained,optimizer_pretrained,criterion_pretrained,data_loader=valid_loader)\n",
    "        \n",
    "    print(f'Epoch: {epoch+1} Train Loss: {train_loss:.3f} Train Acc: {train_acc*100:.2f}% Val Loss: {val_loss:.3f} Val Acc: {val_acc*100:.2f}%')"
   ]
  },
  {
   "cell_type": "markdown",
   "metadata": {},
   "source": [
    "**Save trained parameters**"
   ]
  },
  {
   "cell_type": "code",
   "execution_count": 14,
   "metadata": {},
   "outputs": [],
   "source": [
    "PATH = \"trained_VGG16Net.pt\"\n",
    "torch.save(vgg16_pretrained.state_dict(),PATH)"
   ]
  }
 ],
 "metadata": {
  "kernelspec": {
   "display_name": "Python 3",
   "language": "python",
   "name": "python3"
  },
  "language_info": {
   "codemirror_mode": {
    "name": "ipython",
    "version": 3
   },
   "file_extension": ".py",
   "mimetype": "text/x-python",
   "name": "python",
   "nbconvert_exporter": "python",
   "pygments_lexer": "ipython3",
   "version": "3.6.5"
  },
  "toc": {
   "base_numbering": 1,
   "nav_menu": {},
   "number_sections": true,
   "sideBar": true,
   "skip_h1_title": false,
   "title_cell": "Table of Contents",
   "title_sidebar": "Contents",
   "toc_cell": false,
   "toc_position": {},
   "toc_section_display": true,
   "toc_window_display": false
  }
 },
 "nbformat": 4,
 "nbformat_minor": 4
}
